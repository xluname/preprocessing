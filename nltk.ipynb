{
  "nbformat": 4,
  "nbformat_minor": 0,
  "metadata": {
    "colab": {
      "provenance": [],
      "authorship_tag": "ABX9TyPFy/oj5O9Vvv+LDw86Svjr",
      "include_colab_link": true
    },
    "kernelspec": {
      "name": "python3",
      "display_name": "Python 3"
    },
    "language_info": {
      "name": "python"
    }
  },
  "cells": [
    {
      "cell_type": "markdown",
      "metadata": {
        "id": "view-in-github",
        "colab_type": "text"
      },
      "source": [
        "<a href=\"https://colab.research.google.com/github/xluname/preprocessing/blob/main/nltk.ipynb\" target=\"_parent\"><img src=\"https://colab.research.google.com/assets/colab-badge.svg\" alt=\"Open In Colab\"/></a>"
      ]
    },
    {
      "cell_type": "code",
      "execution_count": null,
      "metadata": {
        "colab": {
          "base_uri": "https://localhost:8080/"
        },
        "id": "D9TfnJOhYItt",
        "outputId": "fb74863e-9b71-450a-c6fc-e660451248e3"
      },
      "outputs": [
        {
          "output_type": "stream",
          "name": "stderr",
          "text": [
            "[nltk_data] Downloading package punkt to /root/nltk_data...\n",
            "[nltk_data]   Unzipping tokenizers/punkt.zip.\n"
          ]
        },
        {
          "output_type": "execute_result",
          "data": {
            "text/plain": [
              "True"
            ]
          },
          "metadata": {},
          "execution_count": 1
        }
      ],
      "source": [
        "import nltk\n",
        "nltk.download('punkt')"
      ]
    },
    {
      "cell_type": "code",
      "source": [
        "paragraph = \"\"\" Art, a profound expression of human creativity, has always been integral to culture and society.\n",
        "                From ancient cave paintings to modern digital installations, art serves as a powerful medium for expression,\n",
        "                communication, and reflection, encapsulating the complexities of human experience.\n",
        "\n",
        "                Art's diversity is one of its most compelling aspects, manifesting in forms such as painting, sculpture,\n",
        "                music, dance, literature, and performance, each offering unique expressive possibilities.\n",
        "                This diversity enriches cultural heritage and reflects the multifaceted nature of human creativity.\n",
        "\n",
        "                Art plays a crucial role in societal development, challenging the status quo, provoking thought, and inspiring change.\n",
        "                Historical art movements often responded to social, political, or economic issues,\n",
        "                expanding the boundaries of human imagination and intellectual awakening.\n",
        "\n",
        "                Art fosters community and shared identity. Public art installations and cultural events bring people together,\n",
        "                creating spaces for communal celebration and dialogue.\n",
        "                In a globalized world, art bridges cultures, promoting understanding and empathy.\n",
        "\n",
        "                In education, art nurtures critical thinking, creativity, and emotional intelligence,\n",
        "                encouraging personal growth and self-awareness.\n",
        "                It develops transferable skills such as problem-solving, innovation, and collaboration.\n",
        "\n",
        "                On a personal level, art can move, inspire, and heal, offering solace and meaning,\n",
        "                helping individuals process emotions and cope with challenges.\n",
        "                Art enriches life, making it more meaningful and vibrant.\n",
        "\n",
        "                In summary, art is a vital force in human life, reflecting and shaping identities,\n",
        "                challenging us to think deeply, and enriching our understanding of the world and each other.\n",
        "                Through contemplation, shared experiences, or creation, art touches every aspect of our existence. \"\"\"\n"
      ],
      "metadata": {
        "id": "G32os0TYaXT0"
      },
      "execution_count": null,
      "outputs": []
    },
    {
      "cell_type": "code",
      "source": [
        "#Tokenizing Sentences\n",
        "sentences = nltk.sent_tokenize(paragraph)\n",
        "sentences"
      ],
      "metadata": {
        "colab": {
          "base_uri": "https://localhost:8080/"
        },
        "collapsed": true,
        "id": "_ATjVuNPh-XM",
        "outputId": "9c260b21-475e-4bc6-e8f1-f4454f9062f5"
      },
      "execution_count": null,
      "outputs": [
        {
          "output_type": "execute_result",
          "data": {
            "text/plain": [
              "[' Art, a profound expression of human creativity, has always been integral to culture and society.',\n",
              " 'From ancient cave paintings to modern digital installations, art serves as a powerful medium for expression,\\n                communication, and reflection, encapsulating the complexities of human experience.',\n",
              " \"Art's diversity is one of its most compelling aspects, manifesting in forms such as painting, sculpture,\\n                music, dance, literature, and performance, each offering unique expressive possibilities.\",\n",
              " 'This diversity enriches cultural heritage and reflects the multifaceted nature of human creativity.',\n",
              " 'Art plays a crucial role in societal development, challenging the status quo, provoking thought, and inspiring change.',\n",
              " 'Historical art movements often responded to social, political, or economic issues,\\n                expanding the boundaries of human imagination and intellectual awakening.',\n",
              " 'Art fosters community and shared identity.',\n",
              " 'Public art installations and cultural events bring people together,\\n                creating spaces for communal celebration and dialogue.',\n",
              " 'In a globalized world, art bridges cultures, promoting understanding and empathy.',\n",
              " 'In education, art nurtures critical thinking, creativity, and emotional intelligence,\\n                encouraging personal growth and self-awareness.',\n",
              " 'It develops transferable skills such as problem-solving, innovation, and collaboration.',\n",
              " 'On a personal level, art can move, inspire, and heal, offering solace and meaning,\\n                helping individuals process emotions and cope with challenges.',\n",
              " 'Art enriches life, making it more meaningful and vibrant.',\n",
              " 'In summary, art is a vital force in human life, reflecting and shaping identities,\\n                challenging us to think deeply, and enriching our understanding of the world and each other.',\n",
              " 'Through contemplation, shared experiences, or creation, art touches every aspect of our existence.']"
            ]
          },
          "metadata": {},
          "execution_count": 7
        }
      ]
    },
    {
      "cell_type": "code",
      "source": [
        "#Tokenizing Words\n",
        "words = nltk.word_tokenize(paragraph)\n",
        "words"
      ],
      "metadata": {
        "colab": {
          "base_uri": "https://localhost:8080/"
        },
        "id": "PY_yNYyjjk3D",
        "outputId": "db5df484-be0e-46a2-c7cc-3f044e664a43"
      },
      "execution_count": null,
      "outputs": [
        {
          "output_type": "execute_result",
          "data": {
            "text/plain": [
              "['Art',\n",
              " ',',\n",
              " 'a',\n",
              " 'profound',\n",
              " 'expression',\n",
              " 'of',\n",
              " 'human',\n",
              " 'creativity',\n",
              " ',',\n",
              " 'has',\n",
              " 'always',\n",
              " 'been',\n",
              " 'integral',\n",
              " 'to',\n",
              " 'culture',\n",
              " 'and',\n",
              " 'society',\n",
              " '.',\n",
              " 'From',\n",
              " 'ancient',\n",
              " 'cave',\n",
              " 'paintings',\n",
              " 'to',\n",
              " 'modern',\n",
              " 'digital',\n",
              " 'installations',\n",
              " ',',\n",
              " 'art',\n",
              " 'serves',\n",
              " 'as',\n",
              " 'a',\n",
              " 'powerful',\n",
              " 'medium',\n",
              " 'for',\n",
              " 'expression',\n",
              " ',',\n",
              " 'communication',\n",
              " ',',\n",
              " 'and',\n",
              " 'reflection',\n",
              " ',',\n",
              " 'encapsulating',\n",
              " 'the',\n",
              " 'complexities',\n",
              " 'of',\n",
              " 'human',\n",
              " 'experience',\n",
              " '.',\n",
              " 'Art',\n",
              " \"'s\",\n",
              " 'diversity',\n",
              " 'is',\n",
              " 'one',\n",
              " 'of',\n",
              " 'its',\n",
              " 'most',\n",
              " 'compelling',\n",
              " 'aspects',\n",
              " ',',\n",
              " 'manifesting',\n",
              " 'in',\n",
              " 'forms',\n",
              " 'such',\n",
              " 'as',\n",
              " 'painting',\n",
              " ',',\n",
              " 'sculpture',\n",
              " ',',\n",
              " 'music',\n",
              " ',',\n",
              " 'dance',\n",
              " ',',\n",
              " 'literature',\n",
              " ',',\n",
              " 'and',\n",
              " 'performance',\n",
              " ',',\n",
              " 'each',\n",
              " 'offering',\n",
              " 'unique',\n",
              " 'expressive',\n",
              " 'possibilities',\n",
              " '.',\n",
              " 'This',\n",
              " 'diversity',\n",
              " 'enriches',\n",
              " 'cultural',\n",
              " 'heritage',\n",
              " 'and',\n",
              " 'reflects',\n",
              " 'the',\n",
              " 'multifaceted',\n",
              " 'nature',\n",
              " 'of',\n",
              " 'human',\n",
              " 'creativity',\n",
              " '.',\n",
              " 'Art',\n",
              " 'plays',\n",
              " 'a',\n",
              " 'crucial',\n",
              " 'role',\n",
              " 'in',\n",
              " 'societal',\n",
              " 'development',\n",
              " ',',\n",
              " 'challenging',\n",
              " 'the',\n",
              " 'status',\n",
              " 'quo',\n",
              " ',',\n",
              " 'provoking',\n",
              " 'thought',\n",
              " ',',\n",
              " 'and',\n",
              " 'inspiring',\n",
              " 'change',\n",
              " '.',\n",
              " 'Historical',\n",
              " 'art',\n",
              " 'movements',\n",
              " 'often',\n",
              " 'responded',\n",
              " 'to',\n",
              " 'social',\n",
              " ',',\n",
              " 'political',\n",
              " ',',\n",
              " 'or',\n",
              " 'economic',\n",
              " 'issues',\n",
              " ',',\n",
              " 'expanding',\n",
              " 'the',\n",
              " 'boundaries',\n",
              " 'of',\n",
              " 'human',\n",
              " 'imagination',\n",
              " 'and',\n",
              " 'intellectual',\n",
              " 'awakening',\n",
              " '.',\n",
              " 'Art',\n",
              " 'fosters',\n",
              " 'community',\n",
              " 'and',\n",
              " 'shared',\n",
              " 'identity',\n",
              " '.',\n",
              " 'Public',\n",
              " 'art',\n",
              " 'installations',\n",
              " 'and',\n",
              " 'cultural',\n",
              " 'events',\n",
              " 'bring',\n",
              " 'people',\n",
              " 'together',\n",
              " ',',\n",
              " 'creating',\n",
              " 'spaces',\n",
              " 'for',\n",
              " 'communal',\n",
              " 'celebration',\n",
              " 'and',\n",
              " 'dialogue',\n",
              " '.',\n",
              " 'In',\n",
              " 'a',\n",
              " 'globalized',\n",
              " 'world',\n",
              " ',',\n",
              " 'art',\n",
              " 'bridges',\n",
              " 'cultures',\n",
              " ',',\n",
              " 'promoting',\n",
              " 'understanding',\n",
              " 'and',\n",
              " 'empathy',\n",
              " '.',\n",
              " 'In',\n",
              " 'education',\n",
              " ',',\n",
              " 'art',\n",
              " 'nurtures',\n",
              " 'critical',\n",
              " 'thinking',\n",
              " ',',\n",
              " 'creativity',\n",
              " ',',\n",
              " 'and',\n",
              " 'emotional',\n",
              " 'intelligence',\n",
              " ',',\n",
              " 'encouraging',\n",
              " 'personal',\n",
              " 'growth',\n",
              " 'and',\n",
              " 'self-awareness',\n",
              " '.',\n",
              " 'It',\n",
              " 'develops',\n",
              " 'transferable',\n",
              " 'skills',\n",
              " 'such',\n",
              " 'as',\n",
              " 'problem-solving',\n",
              " ',',\n",
              " 'innovation',\n",
              " ',',\n",
              " 'and',\n",
              " 'collaboration',\n",
              " '.',\n",
              " 'On',\n",
              " 'a',\n",
              " 'personal',\n",
              " 'level',\n",
              " ',',\n",
              " 'art',\n",
              " 'can',\n",
              " 'move',\n",
              " ',',\n",
              " 'inspire',\n",
              " ',',\n",
              " 'and',\n",
              " 'heal',\n",
              " ',',\n",
              " 'offering',\n",
              " 'solace',\n",
              " 'and',\n",
              " 'meaning',\n",
              " ',',\n",
              " 'helping',\n",
              " 'individuals',\n",
              " 'process',\n",
              " 'emotions',\n",
              " 'and',\n",
              " 'cope',\n",
              " 'with',\n",
              " 'challenges',\n",
              " '.',\n",
              " 'Art',\n",
              " 'enriches',\n",
              " 'life',\n",
              " ',',\n",
              " 'making',\n",
              " 'it',\n",
              " 'more',\n",
              " 'meaningful',\n",
              " 'and',\n",
              " 'vibrant',\n",
              " '.',\n",
              " 'In',\n",
              " 'summary',\n",
              " ',',\n",
              " 'art',\n",
              " 'is',\n",
              " 'a',\n",
              " 'vital',\n",
              " 'force',\n",
              " 'in',\n",
              " 'human',\n",
              " 'life',\n",
              " ',',\n",
              " 'reflecting',\n",
              " 'and',\n",
              " 'shaping',\n",
              " 'identities',\n",
              " ',',\n",
              " 'challenging',\n",
              " 'us',\n",
              " 'to',\n",
              " 'think',\n",
              " 'deeply',\n",
              " ',',\n",
              " 'and',\n",
              " 'enriching',\n",
              " 'our',\n",
              " 'understanding',\n",
              " 'of',\n",
              " 'the',\n",
              " 'world',\n",
              " 'and',\n",
              " 'each',\n",
              " 'other',\n",
              " '.',\n",
              " 'Through',\n",
              " 'contemplation',\n",
              " ',',\n",
              " 'shared',\n",
              " 'experiences',\n",
              " ',',\n",
              " 'or',\n",
              " 'creation',\n",
              " ',',\n",
              " 'art',\n",
              " 'touches',\n",
              " 'every',\n",
              " 'aspect',\n",
              " 'of',\n",
              " 'our',\n",
              " 'existence',\n",
              " '.']"
            ]
          },
          "metadata": {},
          "execution_count": 8
        }
      ]
    },
    {
      "cell_type": "code",
      "source": [
        "from nltk.stem import PorterStemmer\n",
        "from nltk.corpus import stopwords\n",
        "nltk.download('stopwords')"
      ],
      "metadata": {
        "colab": {
          "base_uri": "https://localhost:8080/"
        },
        "id": "HR1Ad_sDj2dt",
        "outputId": "ff9bbc24-56a8-4532-f8db-c49f2ed66e1e"
      },
      "execution_count": null,
      "outputs": [
        {
          "output_type": "stream",
          "name": "stderr",
          "text": [
            "[nltk_data] Downloading package stopwords to /root/nltk_data...\n",
            "[nltk_data]   Package stopwords is already up-to-date!\n"
          ]
        },
        {
          "output_type": "execute_result",
          "data": {
            "text/plain": [
              "True"
            ]
          },
          "metadata": {},
          "execution_count": 12
        }
      ]
    },
    {
      "cell_type": "code",
      "source": [
        "stemmer = PorterStemmer()\n",
        "\n",
        "#stemming\n",
        "for i in range(len(sentences)):\n",
        "  words = nltk.word_tokenize(sentences[i])\n",
        "  words = [stemmer.stem(word) for word in words if word not in set(stopwords.words('english'))]\n",
        "  sentences[i] = ' '.join(words)"
      ],
      "metadata": {
        "id": "KAR2JFIflzxo"
      },
      "execution_count": 22,
      "outputs": []
    },
    {
      "cell_type": "code",
      "source": [
        "sentences[1]"
      ],
      "metadata": {
        "colab": {
          "base_uri": "https://localhost:8080/",
          "height": 52
        },
        "id": "nRO4_vDOx9nl",
        "outputId": "ad74fab0-c68c-4c22-d8fa-eea93506d4d4"
      },
      "execution_count": 23,
      "outputs": [
        {
          "output_type": "execute_result",
          "data": {
            "text/plain": [
              "'ancient cave paint modern digit instal , art serv power medium express , commun , reflect , encapsul complex human experi .'"
            ],
            "application/vnd.google.colaboratory.intrinsic+json": {
              "type": "string"
            }
          },
          "metadata": {},
          "execution_count": 23
        }
      ]
    },
    {
      "cell_type": "code",
      "source": [
        "from nltk.stem import WordNetLemmatizer\n",
        "nltk.download('wordnet')"
      ],
      "metadata": {
        "colab": {
          "base_uri": "https://localhost:8080/"
        },
        "id": "Do1K9DhnwYYL",
        "outputId": "6c11fa27-8b12-4244-a380-cf5189f5f5ab"
      },
      "execution_count": 18,
      "outputs": [
        {
          "output_type": "stream",
          "name": "stderr",
          "text": [
            "[nltk_data] Downloading package wordnet to /root/nltk_data...\n",
            "[nltk_data]   Package wordnet is already up-to-date!\n"
          ]
        },
        {
          "output_type": "execute_result",
          "data": {
            "text/plain": [
              "True"
            ]
          },
          "metadata": {},
          "execution_count": 18
        }
      ]
    },
    {
      "cell_type": "code",
      "source": [
        "lemmatizer = WordNetLemmatizer()\n",
        "\n",
        "sentencess = nltk.sent_tokenize(paragraph)\n",
        "\n",
        "#Lemmatization\n",
        "for i in range(len(sentencess)):\n",
        "  words = nltk.word_tokenize(sentencess[i])\n",
        "  words = [lemmatizer.lemmatize(word) for word in words if word not in set(stopwords.words('english'))]\n",
        "  sentencess[i] = ' '.join(words)"
      ],
      "metadata": {
        "id": "-XkqL1rzwbRj"
      },
      "execution_count": 24,
      "outputs": []
    },
    {
      "cell_type": "code",
      "source": [
        "sentencess[1]"
      ],
      "metadata": {
        "colab": {
          "base_uri": "https://localhost:8080/",
          "height": 70
        },
        "id": "AQWy_cqozF1d",
        "outputId": "566fcd91-ac9c-4f63-d2fb-b6fe6a3ef649"
      },
      "execution_count": 25,
      "outputs": [
        {
          "output_type": "execute_result",
          "data": {
            "text/plain": [
              "'From ancient cave painting modern digital installation , art serf powerful medium expression , communication , reflection , encapsulating complexity human experience .'"
            ],
            "application/vnd.google.colaboratory.intrinsic+json": {
              "type": "string"
            }
          },
          "metadata": {},
          "execution_count": 25
        }
      ]
    },
    {
      "cell_type": "code",
      "source": [
        "import re\n",
        "from nltk.corpus import stopwords\n",
        "from nltk.stem.porter import PorterStemmer\n",
        "from nltk.stem import WordNetLemmatizer\n",
        "\n",
        "ps = PorterStemmer()\n",
        "wordnet = WordNetLemmatizer()\n",
        "sentences = nltk.sent_tokenize(paragraph)\n",
        "corpus = []\n",
        "for i in range(len(sentences)):\n",
        "  review = re.sub('[^a-zA-Z]' , ' ' , sentences[i])\n",
        "  review = review.lower()\n",
        "  review = review.split()\n",
        "  review = [ps.stem(word) for word in review if not word in set(stopwords.words('english'))]\n",
        "  review = ' '.join(review)\n",
        "  corpus.append(review)\n",
        "\n",
        "#Creating the Bag of Words model\n",
        "from  sklearn.feature_extraction.text import CountVectorizer\n",
        "cv = CountVectorizer(max_features = 1500)\n",
        "x = cv.fit_transform(corpus).toarray()"
      ],
      "metadata": {
        "id": "gW-kZDHkzSUf"
      },
      "execution_count": 26,
      "outputs": []
    },
    {
      "cell_type": "code",
      "source": [
        "x"
      ],
      "metadata": {
        "colab": {
          "base_uri": "https://localhost:8080/"
        },
        "id": "F2h8akyO4Wis",
        "outputId": "9dbeada0-e7d0-43bb-aad9-27674f10ae61"
      },
      "execution_count": 27,
      "outputs": [
        {
          "output_type": "execute_result",
          "data": {
            "text/plain": [
              "array([[1, 0, 1, ..., 0, 0, 0],\n",
              "       [0, 1, 1, ..., 0, 0, 0],\n",
              "       [0, 0, 1, ..., 0, 0, 0],\n",
              "       ...,\n",
              "       [0, 0, 1, ..., 1, 0, 0],\n",
              "       [0, 0, 1, ..., 0, 1, 1],\n",
              "       [0, 0, 1, ..., 0, 0, 0]])"
            ]
          },
          "metadata": {},
          "execution_count": 27
        }
      ]
    },
    {
      "cell_type": "code",
      "source": [
        "sentemcess = nltk.sent_tokenize(paragraph)\n",
        "corpus = []\n",
        "for i in range(len(sentences)):\n",
        "  review = re.sub('[^a-zA-Z]' , ' ' , sentences[i])\n",
        "  review = review.lower()\n",
        "  review = review.split()\n",
        "  review = [wordnet.lemmatize(word) for word in review if not word in set(stopwords.words('english'))]\n",
        "  review = ' '.join(review)\n",
        "  corpus.append(review)\n",
        "\n",
        "#Creating the TF-IDF model\n",
        "from sklearn.feature_extraction.text import TfidfVectorizer\n",
        "tf = TfidfVectorizer()\n",
        "x = tf.fit_transform(corpus).toarray()"
      ],
      "metadata": {
        "id": "zNb8ON2F5GE6"
      },
      "execution_count": 28,
      "outputs": []
    },
    {
      "cell_type": "code",
      "source": [
        "x"
      ],
      "metadata": {
        "colab": {
          "base_uri": "https://localhost:8080/"
        },
        "id": "WPeWniR17YHx",
        "outputId": "064d4d59-7111-44ad-c968-0da1063d8d2d"
      },
      "execution_count": 29,
      "outputs": [
        {
          "output_type": "execute_result",
          "data": {
            "text/plain": [
              "array([[0.38755778, 0.        , 0.14265863, ..., 0.        , 0.        ,\n",
              "        0.        ],\n",
              "       [0.        , 0.26202392, 0.09645007, ..., 0.        , 0.        ,\n",
              "        0.        ],\n",
              "       [0.        , 0.        , 0.09456575, ..., 0.        , 0.        ,\n",
              "        0.        ],\n",
              "       ...,\n",
              "       [0.        , 0.        , 0.17082016, ..., 0.46406363, 0.        ,\n",
              "        0.        ],\n",
              "       [0.        , 0.        , 0.10487437, ..., 0.        , 0.28491005,\n",
              "        0.2473964 ],\n",
              "       [0.        , 0.        , 0.13533785, ..., 0.        , 0.        ,\n",
              "        0.        ]])"
            ]
          },
          "metadata": {},
          "execution_count": 29
        }
      ]
    }
  ]
}